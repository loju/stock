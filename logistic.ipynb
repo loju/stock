{
 "cells": [
  {
   "cell_type": "code",
   "execution_count": 1,
   "metadata": {},
   "outputs": [
    {
     "name": "stdout",
     "output_type": "stream",
     "text": [
      "<http.client.HTTPResponse object at 0x7f4bd4141ba8> <class 'http.client.HTTPResponse'>\n"
     ]
    }
   ],
   "source": [
    "import pandas as pd\n",
    "import numpy as np\n",
    "import matplotlib.pyplot as plt\n",
    "%matplotlib inline\n",
    "\n",
    "import matplotlib.style\n",
    "import matplotlib as mpl\n",
    "mpl.style.use('ggplot')\n",
    "\n",
    "from matplotlib.pylab import rcParams\n",
    "rcParams['figure.figsize'] = 20, 10\n",
    "\n",
    "from utils.network import GetArchivedFile\n",
    "g=GetArchivedFile(shortcut=\"KGH\")\n",
    "df=g.get_data_frame()\n",
    "\n",
    "df['Date'] = pd.to_datetime(df.Date, format='%Y-%m-%d')\n",
    "df['Date'] = pd.to_datetime(df['Date']).astype(int)/ 10**9"
   ]
  },
  {
   "cell_type": "code",
   "execution_count": null,
   "metadata": {},
   "outputs": [],
   "source": [
    "X = df.iloc[:, :-5].values\n",
    "y = df.iloc[:, 4].values\n",
    "\n",
    "from sklearn.preprocessing import StandardScaler\n",
    "\n",
    "sc_X, sc_y = StandardScaler(), StandardScaler()\n",
    "X, y = sc_X.fit_transform(X), sc_y.fit_transform(y.reshape(-1, 1))\n",
    "\n",
    "X_prev = X[5000:5500]\n",
    "y_prev = y[5000:5500]\n",
    "X_next = X[5500:]\n",
    "y_next = y[5500:]\n",
    "from sklearn.svm import SVR\n",
    "\n",
    "_svr = SVR(kernel='rbf' )\n",
    "_svr.fit(X_prev, y_prev.ravel() )"
   ]
  }
 ],
 "metadata": {
  "kernelspec": {
   "display_name": "Python 3",
   "language": "python",
   "name": "python3"
  },
  "language_info": {
   "codemirror_mode": {
    "name": "ipython",
    "version": 3
   },
   "file_extension": ".py",
   "mimetype": "text/x-python",
   "name": "python",
   "nbconvert_exporter": "python",
   "pygments_lexer": "ipython3",
   "version": "3.7.3"
  }
 },
 "nbformat": 4,
 "nbformat_minor": 2
}
